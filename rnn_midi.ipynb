{
 "cells": [
  {
   "cell_type": "code",
   "execution_count": 1,
   "metadata": {},
   "outputs": [],
   "source": [
    "%load_ext autoreload\n",
    "%autoreload 2"
   ]
  },
  {
   "cell_type": "code",
   "execution_count": 2,
   "metadata": {},
   "outputs": [],
   "source": [
    "import numpy as np\n",
    "import pandas as pd\n",
    "import msgpack\n",
    "import glob\n",
    "import tensorflow as tf\n",
    "from tensorflow.python.ops import control_flow_ops\n",
    "import os\n",
    "from tqdm import tqdm\n",
    "import matplotlib.pyplot as plt\n",
    "\n",
    "import midi_manipulation\n",
    "\n",
    "%matplotlib inline"
   ]
  },
  {
   "cell_type": "code",
   "execution_count": 3,
   "metadata": {},
   "outputs": [],
   "source": [
    "def get_songs(path):\n",
    "    files = glob.glob('{}/*.mid*'.format(path))\n",
    "    print files\n",
    "    songs = []\n",
    "    for f in tqdm(files):\n",
    "        print f\n",
    "        try:\n",
    "            song = np.array(midi_manipulation.midiToNoteStateMatrix(f))\n",
    "            if np.array(song).shape[0] > 50:\n",
    "                songs.append(song)\n",
    "                print 'gottcha'\n",
    "            else:\n",
    "                print np.array(song).shape[0], 'no good'\n",
    "        except Exception as e:\n",
    "            raise e    \n",
    "    return songs"
   ]
  },
  {
   "cell_type": "code",
   "execution_count": 4,
   "metadata": {},
   "outputs": [
    {
     "name": "stderr",
     "output_type": "stream",
     "text": [
      "\r",
      "  0%|          | 0/5 [00:00<?, ?it/s]"
     ]
    },
    {
     "name": "stdout",
     "output_type": "stream",
     "text": [
      "['./prksn2/prksn2_4-copy.mid', './prksn2/prksn2_4.mid', './prksn2/prksn2_1.mid', './prksn2/prksn2_3.mid', './prksn2/prksn2_2.mid']\n",
      "./prksn2/prksn2_4-copy.mid\n"
     ]
    },
    {
     "name": "stderr",
     "output_type": "stream",
     "text": [
      " 40%|████      | 2/5 [00:02<00:04,  1.54s/it]"
     ]
    },
    {
     "name": "stdout",
     "output_type": "stream",
     "text": [
      "gottcha\n",
      "./prksn2/prksn2_4.mid\n",
      "1 no good\n",
      "./prksn2/prksn2_1.mid\n"
     ]
    },
    {
     "name": "stderr",
     "output_type": "stream",
     "text": [
      "\r",
      " 60%|██████    | 3/5 [00:02<00:02,  1.23s/it]"
     ]
    },
    {
     "name": "stdout",
     "output_type": "stream",
     "text": [
      "gottcha\n",
      "./prksn2/prksn2_3.mid\n"
     ]
    },
    {
     "name": "stderr",
     "output_type": "stream",
     "text": [
      "\r",
      " 80%|████████  | 4/5 [00:03<00:00,  1.03it/s]"
     ]
    },
    {
     "name": "stdout",
     "output_type": "stream",
     "text": [
      "gottcha\n",
      "./prksn2/prksn2_2.mid\n"
     ]
    },
    {
     "name": "stderr",
     "output_type": "stream",
     "text": [
      "\r",
      "100%|██████████| 5/5 [00:04<00:00,  1.04it/s]"
     ]
    },
    {
     "name": "stdout",
     "output_type": "stream",
     "text": [
      "gottcha\n",
      "4 songs processed\n"
     ]
    },
    {
     "name": "stderr",
     "output_type": "stream",
     "text": [
      "\n"
     ]
    }
   ],
   "source": [
    "songs = get_songs('./prksn2/') #These songs have already been converted from midi to msgpack\n",
    "print \"{} songs processed\".format(len(songs))"
   ]
  },
  {
   "cell_type": "code",
   "execution_count": 5,
   "metadata": {},
   "outputs": [
    {
     "name": "stdout",
     "output_type": "stream",
     "text": [
      "156\n"
     ]
    }
   ],
   "source": [
    "lowest_note = midi_manipulation.lowerBound #the index of the lowest note on the piano roll\n",
    "highest_note = midi_manipulation.upperBound #the index of the highest note on the piano roll\n",
    "note_range = highest_note-lowest_note #the note range\n",
    "\n",
    "num_timesteps  = 12 #8 #This is the number of timesteps that we will create at a time\n",
    "n_visible      = 2*note_range #This is the size of the visible layer. \n",
    "n_hidden       = 200 #This is the size of the hidden layer\n",
    "n_output = n_visible\n",
    "print(n_visible)"
   ]
  },
  {
   "cell_type": "code",
   "execution_count": 6,
   "metadata": {},
   "outputs": [
    {
     "name": "stdout",
     "output_type": "stream",
     "text": [
      "\n",
      "WARNING: The TensorFlow contrib module will not be included in TensorFlow 2.0.\n",
      "For more information, please see:\n",
      "  * https://github.com/tensorflow/community/blob/master/rfcs/20180907-contrib-sunset.md\n",
      "  * https://github.com/tensorflow/addons\n",
      "If you depend on functionality not listed there, please file an issue.\n",
      "\n",
      "WARNING:tensorflow:From <ipython-input-6-86d59d50a631>:4: __init__ (from tensorflow.python.ops.rnn_cell_impl) is deprecated and will be removed in a future version.\n",
      "Instructions for updating:\n",
      "This class is equivalent as tf.keras.layers.SimpleRNNCell, and will be replaced by that in Tensorflow 2.0.\n",
      "WARNING:tensorflow:From <ipython-input-6-86d59d50a631>:17: dynamic_rnn (from tensorflow.python.ops.rnn) is deprecated and will be removed in a future version.\n",
      "Instructions for updating:\n",
      "Please use `keras.layers.RNN(cell)`, which is equivalent to this API\n",
      "WARNING:tensorflow:From /Users/sdubnov/anaconda2/envs/python27/lib/python2.7/site-packages/tensorflow/python/ops/tensor_array_ops.py:162: colocate_with (from tensorflow.python.framework.ops) is deprecated and will be removed in a future version.\n",
      "Instructions for updating:\n",
      "Colocations handled automatically by placer.\n"
     ]
    }
   ],
   "source": [
    "# reset_graph()\n",
    "### Model Construction\n",
    "num_layers = 1 #1\n",
    "cell = tf.contrib.rnn.BasicRNNCell(n_hidden) # cell = tf.nn.rnn_cell.BasicLSTMCell(hidden_dim)\n",
    "if num_layers > 1:\n",
    "    cell = tf.contrib.rnn.MultiRNNCell([cell] * num_layers) # cell = tf.nn.rnn_cell.MultiRNNCell([cell] * num_layers) # \n",
    "#cell = tf.nn.rnn_cell.DropoutWrapper(cell,output_keep_prob=drop_out)  #optional\n",
    "cell = tf.contrib.rnn.OutputProjectionWrapper(cell,n_output)\n",
    "\n",
    "#create placeholders for X and y\n",
    "X = tf.placeholder(tf.float32, shape=[None, num_timesteps, n_visible])\n",
    "y = tf.placeholder(tf.float32, shape=[None, num_timesteps, n_output])\n",
    "\n",
    "batch_size = 1\n",
    "initial_state = cell.zero_state(batch_size, tf.float32)\n",
    "\n",
    "outputs, states = tf.nn.dynamic_rnn(cell, X, dtype = tf.float32, initial_state = initial_state)\n",
    "#need to change from default initial_state=None so that the generation of subsequent bars will be continous"
   ]
  },
  {
   "cell_type": "code",
   "execution_count": 9,
   "metadata": {
    "scrolled": false
   },
   "outputs": [],
   "source": [
    "alpha = 0.001 #01 #0.1\n",
    "loss = tf.reduce_mean(tf.square(outputs - y))\n",
    "\n",
    "optimizer = tf.train.AdamOptimizer(alpha)\n",
    "training_op = optimizer.minimize(loss)\n",
    "\n",
    "init = tf.global_variables_initializer()\n",
    "\n",
    "num_epochs = 100 #00 #The number of training epochs that we are going to run. For each epoch we go through the entire data set."
   ]
  },
  {
   "cell_type": "code",
   "execution_count": 10,
   "metadata": {
    "scrolled": true
   },
   "outputs": [
    {
     "name": "stdout",
     "output_type": "stream",
     "text": [
      "Iter: 0\n",
      "Loss: 0.03409\n",
      "Composition of (48, 156) notes has been completed\n"
     ]
    },
    {
     "data": {
      "image/png": "[encoded data removed]",
      "text/plain": [
       "<Figure size 864x144 with 2 Axes>"
      ]
     },
     "metadata": {
      "needs_background": "light"
     },
     "output_type": "display_data"
    },
    {
     "name": "stdout",
     "output_type": "stream",
     "text": [
      "Iter: 10\n",
      "Loss: 0.01724\n",
      "Iter: 20\n",
      "Loss: 0.01579\n",
      "Iter: 30\n",
      "Loss: 0.01477\n",
      "Iter: 40\n",
      "Loss: 0.01434\n",
      "Iter: 50\n",
      "Loss: 0.01417\n",
      "Iter: 60\n",
      "Loss: 0.01395\n",
      "Iter: 70\n",
      "Loss: 0.01414\n",
      "Iter: 80\n",
      "Loss: 0.01424\n",
      "Iter: 90\n",
      "Loss: 0.01423\n",
      "Iter: 100\n",
      "Loss: 0.01417\n",
      "Composition of (48, 156) notes has been completed\n"
     ]
    },
    {
     "data": {
      "image/png": "[encoded data removed]",
      "text/plain": [
       "<Figure size 864x144 with 2 Axes>"
      ]
     },
     "metadata": {
      "needs_background": "light"
     },
     "output_type": "display_data"
    }
   ],
   "source": [
    "sess = tf.Session()\n",
    "sess.run(tf.global_variables_initializer())\n",
    "\n",
    "if not os.path.exists('out/'):\n",
    "    os.makedirs('out/')\n",
    "\n",
    "i = 0\n",
    "\n",
    "somesongs = [songs[0]]\n",
    "while i <= num_epochs:\n",
    "    for song in somesongs:\n",
    "        # The songs are stored in a time x notes format. The size of each song is timesteps_in_song x 2*note_range\n",
    "        # Here we reshape the songs so that each training example is a vector with num_timesteps x 2*note_range elements\n",
    "        song = np.array(song)\n",
    "        #song = song[:np.floor(song.shape[0]/num_timesteps).astype(int)*num_timesteps]\n",
    "        #song = np.reshape(song, [song.shape[0]/num_timesteps, song.shape[1]*num_timesteps])\n",
    "        # Train the RBM on batch_size examples at a time\n",
    "        end_of_song = (np.floor(np.shape(song)[0]/num_timesteps).astype(int)-1)*num_timesteps\n",
    "        for ind in range(0, end_of_song, num_timesteps): \n",
    "            X_train = np.expand_dims(song[ind:ind+num_timesteps], axis = 0)\n",
    "            y_train = np.expand_dims(song[ind+1:ind+num_timesteps+1], axis = 0)\n",
    "            _, loss_val = sess.run([training_op, loss], feed_dict={X: X_train, y: y_train})\n",
    "    \n",
    "    if i % 10 == 0:\n",
    "        print('Iter: {}'.format(i))\n",
    "        print('Loss: {:.4}'. format(loss_val))\n",
    "    if i % 100 == 0:\n",
    "        next_input = np.random.randn(1,num_timesteps,n_visible)\n",
    "        #next_input = np.zeros((1,num_timesteps,n_visible))\n",
    "        n_steps = 4\n",
    "        samples = np.zeros((1,n_visible))\n",
    "        #print(np.shape(samples))\n",
    "        for j in range(n_steps):\n",
    "            y_pred = sess.run(outputs, feed_dict={X: next_input})\n",
    "            next_input = y_pred\n",
    "            #print(np.shape(y_pred))\n",
    "            samples = np.append(samples,y_pred[0,:,:],axis = 0)\n",
    "\n",
    "        S = samples[1:]\n",
    "        print('Composition of {} notes has been completed' . format(np.shape(S)))\n",
    "        thresh_S = S>=0.5\n",
    "        plt.figure(figsize=(12,2))\n",
    "        plt.subplot(1,2,1)\n",
    "        plt.imshow(S)\n",
    "        plt.subplot(1,2,2)\n",
    "        plt.imshow(thresh_S)\n",
    "        plt.tight_layout()\n",
    "        plt.pause(0.1)\n",
    "\n",
    "    i += 1\n",
    "\n",
    "midi_manipulation.noteStateMatrixToMidi(thresh_S, \"out/rnn_generated_chord_{}\".format(i))\n"
   ]
  },
  {
   "cell_type": "markdown",
   "metadata": {
    "collapsed": true
   },
   "source": [
    "## Training Ended\n",
    "# Generative Part Starts Here\n"
   ]
  },
  {
   "cell_type": "code",
   "execution_count": 15,
   "metadata": {},
   "outputs": [
    {
     "name": "stdout",
     "output_type": "stream",
     "text": [
      "(1, 200)\n"
     ]
    }
   ],
   "source": [
    "#next_input = np.zeros((1,num_timesteps,n_visible))\n",
    "n_bars = 25*16/num_timesteps\n",
    "samples = np.zeros((1,n_visible))\n",
    "y_thought = np.zeros((1,n_hidden))\n",
    "print(np.shape(y_thought))"
   ]
  },
  {
   "cell_type": "code",
   "execution_count": 18,
   "metadata": {},
   "outputs": [
    {
     "name": "stdout",
     "output_type": "stream",
     "text": [
      "(1090, 156)\n"
     ]
    }
   ],
   "source": [
    "next_input = np.random.randn(1,num_timesteps,n_visible)\n",
    "for j in range(n_bars):\n",
    "    y_pred, y_states = sess.run([outputs, states], feed_dict={X: next_input, initial_state: y_thought})\n",
    "    # next_input = y_pred #this creates loops\n",
    "    next_input = np.random.randn(1,num_timesteps,n_visible) #reinitialize every num_steps\n",
    "    y_thought = y_states\n",
    "    samples = np.append(samples,y_pred[0,:-1,:],axis = 0)\n",
    "\n",
    "S = samples\n",
    "print np.shape(S)\n",
    "thresh_S = S>=0.99 #0.5\n",
    "midi_manipulation.noteStateMatrixToMidi(thresh_S, \"out/rnn_generated_chord_long\")"
   ]
  },
  {
   "cell_type": "code",
   "execution_count": 19,
   "metadata": {},
   "outputs": [
    {
     "name": "stdout",
     "output_type": "stream",
     "text": [
      "(588, 156)\n"
     ]
    },
    {
     "data": {
      "text/plain": [
       "<matplotlib.image.AxesImage at 0xb287f7090>"
      ]
     },
     "execution_count": 19,
     "metadata": {},
     "output_type": "execute_result"
    },
    {
     "data": {
      "image/png": "[encoded data removed]",
      "text/plain": [
       "<Figure size 432x288 with 1 Axes>"
      ]
     },
     "metadata": {
      "needs_background": "light"
     },
     "output_type": "display_data"
    }
   ],
   "source": [
    "q = \"./vf/vf_no4.mid\" #No 1, 4 and 6 are triple rhythm 6/8\n",
    "#q = \"./prokofiev_vision_fugitives_22_(c)ungar.mid\"\n",
    "querysong = np.array(midi_manipulation.midiToNoteStateMatrix(q))\n",
    "print np.shape(querysong)\n",
    "plt.imshow(querysong)"
   ]
  },
  {
   "cell_type": "code",
   "execution_count": 20,
   "metadata": {},
   "outputs": [],
   "source": [
    "song = np.array(querysong)\n",
    "S_reconstruct = song\n",
    "midi_manipulation.noteStateMatrixToMidi(S_reconstruct, \"out/song_reconstruct\")   "
   ]
  },
  {
   "cell_type": "code",
   "execution_count": 68,
   "metadata": {},
   "outputs": [
    {
     "name": "stdout",
     "output_type": "stream",
     "text": [
      "(588, 156)\n"
     ]
    }
   ],
   "source": [
    "samples = np.zeros((1,n_visible))\n",
    "decode_bars = np.shape(song)[0] #check why end_of_song used np.shape(song)[1] ???\n",
    "print(np.shape(song))\n",
    "song = np.array(querysong)\n",
    "\n",
    "end_of_song = (np.floor(np.shape(song)[0]/num_timesteps)-1).astype(int)*num_timesteps\n",
    "for ind in range(0, end_of_song, num_timesteps): \n",
    "    Xq = np.expand_dims(song[ind:ind+num_timesteps], axis = 0)\n",
    "    #plt.imshow(Xq[0])\n",
    "    y_pred = sess.run([outputs, feed_dict={X: Xq})\n",
    "\n",
    "                       \n",
    "    y_pred, y_states = sess.run([outputs, states], feed_dict={X: next_input, initial_state: y_thought})\n",
    "    # next_input = y_pred #this creates loops\n",
    "    next_input = np.random.randn(1,num_timesteps,n_visible) #reinitialize every num_steps\n",
    "    y_thought = y_states\n",
    "\n",
    "\n",
    "    #plt.imshow(y_pred[0])\n",
    "    #print(np.shape(y_pred))\n",
    "    samples = np.append(samples,y_pred[0,:,:],axis = 0)"
   ]
  },
  {
   "cell_type": "code",
   "execution_count": 69,
   "metadata": {},
   "outputs": [
    {
     "name": "stdout",
     "output_type": "stream",
     "text": [
      "(576, 156)\n",
      "rnn_generated_query_h200_nt12\n"
     ]
    },
    {
     "data": {
      "text/plain": [
       "<matplotlib.image.AxesImage at 0xb368f0a90>"
      ]
     },
     "execution_count": 69,
     "metadata": {},
     "output_type": "execute_result"
    },
    {
     "data": {
      "image/png": "[encoded data removed]",
      "text/plain": [
       "<Figure size 432x288 with 1 Axes>"
      ]
     },
     "metadata": {
      "needs_background": "light"
     },
     "output_type": "display_data"
    }
   ],
   "source": [
    "S = samples[1:]\n",
    "print np.shape(S)\n",
    "thresh_S = S>=0.6 #0.5\n",
    "fout = \"rnn_generated_query\"+'_h'+str(n_hidden)+'_nt'+str(num_timesteps)\n",
    "print fout\n",
    "midi_manipulation.noteStateMatrixToMidi(thresh_S, \"out/\"+fout)\n",
    "\n",
    "plt.imshow(thresh_S)"
   ]
  },
  {
   "cell_type": "code",
   "execution_count": null,
   "metadata": {},
   "outputs": [],
   "source": []
  },
  {
   "cell_type": "code",
   "execution_count": null,
   "metadata": {},
   "outputs": [],
   "source": []
  }
 ],
 "metadata": {
  "kernelspec": {
   "display_name": "Python 2",
   "language": "python",
   "name": "python2"
  },
  "language_info": {
   "codemirror_mode": {
    "name": "ipython",
    "version": 2
   },
   "file_extension": ".py",
   "mimetype": "text/x-python",
   "name": "python",
   "nbconvert_exporter": "python",
   "pygments_lexer": "ipython2",
   "version": "2.7.16"
  }
 },
 "nbformat": 4,
 "nbformat_minor": 2
}
