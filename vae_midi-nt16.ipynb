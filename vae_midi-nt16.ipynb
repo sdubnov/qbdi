{
 "cells": [
  {
   "cell_type": "code",
   "execution_count": 1,
   "metadata": {},
   "outputs": [],
   "source": [
    "%load_ext autoreload\n",
    "%autoreload 2"
   ]
  },
  {
   "cell_type": "code",
   "execution_count": 2,
   "metadata": {},
   "outputs": [],
   "source": [
    "import numpy as np\n",
    "import pandas as pd\n",
    "import msgpack\n",
    "import glob\n",
    "import tensorflow as tf\n",
    "from tensorflow.python.ops import control_flow_ops\n",
    "import os\n",
    "from tqdm import tqdm\n",
    "import matplotlib.pyplot as plt\n",
    "\n",
    "import midi_manipulation\n",
    "\n",
    "\n",
    "%matplotlib inline"
   ]
  },
  {
   "cell_type": "code",
   "execution_count": 3,
   "metadata": {},
   "outputs": [],
   "source": [
    "def get_songs(path):\n",
    "    files = glob.glob('{}/*.mid*'.format(path))\n",
    "    print(files)\n",
    "    songs = []\n",
    "    for f in tqdm(files):\n",
    "        print(f)\n",
    "        try:\n",
    "            song = np.array(midi_manipulation.midiToNoteStateMatrix(f))\n",
    "            if np.array(song).shape[0] > 50:\n",
    "                songs.append(song)\n",
    "                print('gottcha')\n",
    "            else:\n",
    "                print(np.array(song).shape[0], 'no good')\n",
    "        except Exception as e:\n",
    "            raise e    \n",
    "    return songs"
   ]
  },
  {
   "cell_type": "code",
   "execution_count": 4,
   "metadata": {},
   "outputs": [
    {
     "name": "stdout",
     "output_type": "stream",
     "text": [
      "['./prksn2\\\\prksn2_1.mid', './prksn2\\\\prksn2_2.mid', './prksn2\\\\prksn2_3.mid', './prksn2\\\\prksn2_4-copy.mid', './prksn2\\\\prksn2_4.mid']\n"
     ]
    },
    {
     "name": "stderr",
     "output_type": "stream",
     "text": [
      "\r",
      "  0%|          | 0/5 [00:00<?, ?it/s]"
     ]
    },
    {
     "name": "stdout",
     "output_type": "stream",
     "text": [
      "./prksn2\\prksn2_1.mid\n",
      "gottcha\n"
     ]
    },
    {
     "name": "stderr",
     "output_type": "stream",
     "text": [
      "\r",
      " 20%|██        | 1/5 [00:00<00:02,  1.72it/s]"
     ]
    },
    {
     "name": "stdout",
     "output_type": "stream",
     "text": [
      "./prksn2\\prksn2_2.mid\n",
      "gottcha\n"
     ]
    },
    {
     "name": "stderr",
     "output_type": "stream",
     "text": [
      "\r",
      " 40%|████      | 2/5 [00:01<00:02,  1.45it/s]"
     ]
    },
    {
     "name": "stdout",
     "output_type": "stream",
     "text": [
      "./prksn2\\prksn2_3.mid\n",
      "gottcha\n"
     ]
    },
    {
     "name": "stderr",
     "output_type": "stream",
     "text": [
      "\r",
      " 60%|██████    | 3/5 [00:01<00:01,  1.70it/s]"
     ]
    },
    {
     "name": "stdout",
     "output_type": "stream",
     "text": [
      "./prksn2\\prksn2_4-copy.mid\n",
      "gottcha\n"
     ]
    },
    {
     "name": "stderr",
     "output_type": "stream",
     "text": [
      "\r",
      " 80%|████████  | 4/5 [00:04<00:01,  1.16s/it]"
     ]
    },
    {
     "name": "stdout",
     "output_type": "stream",
     "text": [
      "./prksn2\\prksn2_4.mid\n",
      "1 no good\n"
     ]
    },
    {
     "name": "stderr",
     "output_type": "stream",
     "text": [
      "100%|██████████| 5/5 [00:04<00:00,  1.18it/s]\n"
     ]
    },
    {
     "name": "stdout",
     "output_type": "stream",
     "text": [
      "4 songs processed\n"
     ]
    }
   ],
   "source": [
    "songs = get_songs('./prksn2/') #These songs have already been converted from midi to msgpack\n",
    "print(\"{} songs processed\".format(len(songs)))"
   ]
  },
  {
   "cell_type": "code",
   "execution_count": 5,
   "metadata": {},
   "outputs": [],
   "source": [
    "lowest_note = midi_manipulation.lowerBound #the index of the lowest note on the piano roll\n",
    "highest_note = midi_manipulation.upperBound #the index of the highest note on the piano roll\n",
    "note_range = highest_note-lowest_note #the note range\n",
    "\n",
    "num_timesteps  = 16 #64 #32 #16 #This is the number of timesteps that we will create at a time  (16 = one bar)\n",
    "n_visible      = 2*note_range*num_timesteps #This is the size of the visible layer. \n",
    "n_hidden       = 500 #50 #This is the size of the hidden layer"
   ]
  },
  {
   "cell_type": "code",
   "execution_count": 6,
   "metadata": {},
   "outputs": [],
   "source": [
    "#x  = tf.placeholder(tf.float32, [None, n_visible], name=\"x\") #The placeholder variable that holds our data\n",
    "#W  = tf.Variable(tf.random_normal([n_visible, n_hidden], 0.01), name=\"W\") #The weight matrix that stores the edge weights\n",
    "#bh = tf.Variable(tf.zeros([1, n_hidden],  tf.float32, name=\"bh\")) #The bias vector for the hidden layer\n",
    "#bv = tf.Variable(tf.zeros([1, n_visible],  tf.float32, name=\"bv\")) #The bias vector for the visible layer"
   ]
  },
  {
   "cell_type": "code",
   "execution_count": 7,
   "metadata": {},
   "outputs": [],
   "source": [
    "z_dim = n_hidden #100\n",
    "X_dim = n_visible #mnist.train.images.shape[1]\n",
    "h_dim = n_hidden #128\n"
   ]
  },
  {
   "cell_type": "code",
   "execution_count": 8,
   "metadata": {},
   "outputs": [],
   "source": [
    "def xavier_init(size):\n",
    "    in_dim = size[0]\n",
    "    xavier_stddev = 1. / tf.sqrt(in_dim / 2.)\n",
    "    return tf.random_normal(shape=size, stddev=xavier_stddev)"
   ]
  },
  {
   "cell_type": "code",
   "execution_count": 9,
   "metadata": {},
   "outputs": [
    {
     "name": "stdout",
     "output_type": "stream",
     "text": [
      "WARNING:tensorflow:From C:\\Users\\Shlomo\\Anaconda2\\lib\\site-packages\\tensorflow\\python\\framework\\op_def_library.py:263: colocate_with (from tensorflow.python.framework.ops) is deprecated and will be removed in a future version.\n",
      "Instructions for updating:\n",
      "Colocations handled automatically by placer.\n"
     ]
    }
   ],
   "source": [
    "X = tf.placeholder(tf.float32, shape=[None, X_dim], name=\"X\")\n",
    "z = tf.placeholder(tf.float32, shape=[None, z_dim], name=\"z\")\n",
    "\n",
    "Q_W1 = tf.Variable(xavier_init([X_dim, h_dim]), name=\"Q_W1\")\n",
    "Q_b1 = tf.Variable(tf.zeros(shape=[h_dim]), name=\"Q_b1\")\n",
    "\n",
    "Q_W2_mu = tf.Variable(xavier_init([h_dim, z_dim]), name=\"Q_W2_mu\")\n",
    "Q_b2_mu = tf.Variable(tf.zeros(shape=[z_dim]), name=\"Q_b2_mu\")\n",
    "\n",
    "Q_W2_sigma = tf.Variable(xavier_init([h_dim, z_dim]),name=\"Q_W2_sigma\")\n",
    "Q_b2_sigma = tf.Variable(tf.zeros(shape=[z_dim]),name=\"Q_b2_sigma\")"
   ]
  },
  {
   "cell_type": "code",
   "execution_count": 10,
   "metadata": {},
   "outputs": [],
   "source": [
    "def Q(X):\n",
    "    h = tf.nn.relu(tf.matmul(X, Q_W1) + Q_b1)\n",
    "    z_mu = tf.matmul(h, Q_W2_mu) + Q_b2_mu\n",
    "    z_logvar = tf.matmul(h, Q_W2_sigma) + Q_b2_sigma\n",
    "    return z_mu, z_logvar\n",
    "\n",
    "\n",
    "def sample_z(mu, log_var):\n",
    "    eps = tf.random_normal(shape=tf.shape(mu))\n",
    "    return mu + tf.exp(log_var / 2) * eps"
   ]
  },
  {
   "cell_type": "code",
   "execution_count": 11,
   "metadata": {},
   "outputs": [],
   "source": [
    "# =============================== P(X|z) ======================================\n",
    "\n",
    "P_W1 = tf.Variable(xavier_init([z_dim, h_dim]), name=\"P_W1\")\n",
    "P_b1 = tf.Variable(tf.zeros(shape=[h_dim]), name=\"P_b1\")\n",
    "\n",
    "P_W2 = tf.Variable(xavier_init([h_dim, X_dim]), name=\"P_W2\")\n",
    "P_b2 = tf.Variable(tf.zeros(shape=[X_dim]), name=\"P_b2\")\n",
    "\n",
    "\n",
    "def P(z):\n",
    "    h = tf.nn.relu(tf.matmul(z, P_W1) + P_b1)\n",
    "    logits = tf.matmul(h, P_W2) + P_b2\n",
    "    prob = tf.nn.sigmoid(logits)\n",
    "    return prob, logits"
   ]
  },
  {
   "cell_type": "code",
   "execution_count": 12,
   "metadata": {},
   "outputs": [
    {
     "name": "stdout",
     "output_type": "stream",
     "text": [
      "WARNING:tensorflow:From C:\\Users\\Shlomo\\Anaconda2\\lib\\site-packages\\tensorflow\\python\\ops\\math_ops.py:3066: to_int32 (from tensorflow.python.ops.math_ops) is deprecated and will be removed in a future version.\n",
      "Instructions for updating:\n",
      "Use tf.cast instead.\n"
     ]
    }
   ],
   "source": [
    "z_mu, z_logvar = Q(X)\n",
    "z_sample = sample_z(z_mu, z_logvar)\n",
    "_, logits = P(z_sample)\n",
    "\n",
    "# Sampling from random z\n",
    "X_samples, _ = P(z)\n",
    "\n",
    "# E[log P(X|z)]\n",
    "recon_loss = tf.reduce_sum(tf.nn.sigmoid_cross_entropy_with_logits(logits=logits, labels=X), 1)\n",
    "# D_KL(Q(z|X) || P(z|X)); calculate in closed form as both dist. are Gaussian\n",
    "kl_loss = 0.5 * tf.reduce_sum(tf.exp(z_logvar) + z_mu**2 - 1. - z_logvar, 1)\n",
    "# VAE loss\n",
    "vae_loss = tf.reduce_mean(recon_loss + kl_loss)\n",
    "\n",
    "solver = tf.train.AdamOptimizer().minimize(vae_loss) #check learning rate\n",
    "\n",
    "#saver = tf.train.Saver()"
   ]
  },
  {
   "cell_type": "code",
   "execution_count": 13,
   "metadata": {},
   "outputs": [],
   "source": [
    "sess = tf.Session()\n",
    "sess.run(tf.global_variables_initializer())\n",
    "\n",
    "if not os.path.exists('out/'):\n",
    "    os.makedirs('out/')"
   ]
  },
  {
   "cell_type": "code",
   "execution_count": 17,
   "metadata": {
    "scrolled": true
   },
   "outputs": [
    {
     "name": "stdout",
     "output_type": "stream",
     "text": [
      "Iter: 0\n",
      "Loss: 15.77\n"
     ]
    },
    {
     "data": {
      "image/png": "[encoded data removed]",
      "text/plain": [
       "<Figure size 864x144 with 2 Axes>"
      ]
     },
     "metadata": {
      "needs_background": "light"
     },
     "output_type": "display_data"
    },
    {
     "name": "stdout",
     "output_type": "stream",
     "text": [
      "Iter: 100\n",
      "Loss: 22.68\n",
      "Iter: 200\n",
      "Loss: 15.57\n",
      "Iter: 300\n",
      "Loss: 18.41\n",
      "Iter: 400\n",
      "Loss: 15.66\n",
      "Iter: 500\n",
      "Loss: 18.01\n",
      "Iter: 600\n",
      "Loss: 15.72\n",
      "Iter: 700\n",
      "Loss: 16.35\n",
      "Iter: 800\n",
      "Loss: 17.98\n",
      "Iter: 900\n",
      "Loss: 15.15\n",
      "Iter: 1000\n",
      "Loss: 18.21\n"
     ]
    },
    {
     "data": {
      "image/png": "[encoded data removed]",
      "text/plain": [
       "<Figure size 864x144 with 2 Axes>"
      ]
     },
     "metadata": {
      "needs_background": "light"
     },
     "output_type": "display_data"
    },
    {
     "name": "stdout",
     "output_type": "stream",
     "text": [
      "Iter: 1100\n",
      "Loss: 15.2\n",
      "Iter: 1200\n",
      "Loss: 20.71\n",
      "Iter: 1300\n",
      "Loss: 15.89\n",
      "Iter: 1400\n",
      "Loss: 16.94\n",
      "Iter: 1500\n",
      "Loss: 16.3\n",
      "Iter: 1600\n",
      "Loss: 15.77\n",
      "Iter: 1700\n",
      "Loss: 15.69\n",
      "Iter: 1800\n",
      "Loss: 18.62\n",
      "Iter: 1900\n",
      "Loss: 22.95\n",
      "Iter: 2000\n",
      "Loss: 16.54\n"
     ]
    },
    {
     "data": {
      "image/png": "[encoded data removed]",
      "text/plain": [
       "<Figure size 864x144 with 2 Axes>"
      ]
     },
     "metadata": {
      "needs_background": "light"
     },
     "output_type": "display_data"
    },
    {
     "name": "stdout",
     "output_type": "stream",
     "text": [
      "Iter: 2100\n",
      "Loss: 15.2\n",
      "Iter: 2200\n",
      "Loss: 15.49\n",
      "Iter: 2300\n",
      "Loss: 15.34\n",
      "Iter: 2400\n",
      "Loss: 15.28\n",
      "Iter: 2500\n",
      "Loss: 15.2\n",
      "Iter: 2600\n",
      "Loss: 16.78\n",
      "Iter: 2700\n",
      "Loss: 16.31\n",
      "Iter: 2800\n",
      "Loss: 15.34\n",
      "Iter: 2900\n",
      "Loss: 15.85\n",
      "Iter: 3000\n",
      "Loss: 25.28\n"
     ]
    },
    {
     "data": {
      "image/png": "[encoded data removed]",
      "text/plain": [
       "<Figure size 864x144 with 2 Axes>"
      ]
     },
     "metadata": {
      "needs_background": "light"
     },
     "output_type": "display_data"
    },
    {
     "name": "stdout",
     "output_type": "stream",
     "text": [
      "Iter: 3100\n",
      "Loss: 15.97\n",
      "Iter: 3200\n",
      "Loss: 14.97\n",
      "Iter: 3300\n",
      "Loss: 19.65\n",
      "Iter: 3400\n",
      "Loss: 15.47\n",
      "Iter: 3500\n",
      "Loss: 15.51\n",
      "Iter: 3600\n",
      "Loss: 15.59\n",
      "Iter: 3700\n",
      "Loss: 15.14\n",
      "Iter: 3800\n",
      "Loss: 31.91\n",
      "Iter: 3900\n",
      "Loss: 22.86\n",
      "Iter: 4000\n",
      "Loss: 15.9\n"
     ]
    },
    {
     "data": {
      "image/png": "[encoded data removed]",
      "text/plain": [
       "<Figure size 864x144 with 2 Axes>"
      ]
     },
     "metadata": {
      "needs_background": "light"
     },
     "output_type": "display_data"
    },
    {
     "name": "stdout",
     "output_type": "stream",
     "text": [
      "Iter: 4100\n",
      "Loss: 14.45\n",
      "Iter: 4200\n",
      "Loss: 14.8\n",
      "Iter: 4300\n",
      "Loss: 16.23\n",
      "Iter: 4400\n",
      "Loss: 15.36\n",
      "Iter: 4500\n",
      "Loss: 33.03\n",
      "Iter: 4600\n",
      "Loss: 16.16\n",
      "Iter: 4700\n",
      "Loss: 16.15\n",
      "Iter: 4800\n",
      "Loss: 17.9\n",
      "Iter: 4900\n",
      "Loss: 17.94\n",
      "Iter: 5000\n",
      "Loss: 16.63\n"
     ]
    },
    {
     "data": {
      "image/png": "[encoded data removed]",
      "text/plain": [
       "<Figure size 864x144 with 2 Axes>"
      ]
     },
     "metadata": {
      "needs_background": "light"
     },
     "output_type": "display_data"
    },
    {
     "name": "stdout",
     "output_type": "stream",
     "text": [
      "Iter: 5100\n",
      "Loss: 20.08\n",
      "Iter: 5200\n",
      "Loss: 17.41\n",
      "Iter: 5300\n",
      "Loss: 16.27\n",
      "Iter: 5400\n",
      "Loss: 16.68\n",
      "Iter: 5500\n",
      "Loss: 14.71\n",
      "Iter: 5600\n",
      "Loss: 16.32\n",
      "Iter: 5700\n",
      "Loss: 15.52\n",
      "Iter: 5800\n",
      "Loss: 14.4\n",
      "Iter: 5900\n",
      "Loss: 15.5\n",
      "Iter: 6000\n",
      "Loss: 14.4\n"
     ]
    },
    {
     "data": {
      "image/png": "[encoded data removed]",
      "text/plain": [
       "<Figure size 864x144 with 2 Axes>"
      ]
     },
     "metadata": {
      "needs_background": "light"
     },
     "output_type": "display_data"
    },
    {
     "name": "stdout",
     "output_type": "stream",
     "text": [
      "Iter: 6100\n",
      "Loss: 15.48\n",
      "Iter: 6200\n",
      "Loss: 15.02\n",
      "Iter: 6300\n",
      "Loss: 16.63\n",
      "Iter: 6400\n",
      "Loss: 16.76\n",
      "Iter: 6500\n",
      "Loss: 17.03\n",
      "Iter: 6600\n",
      "Loss: 15.15\n",
      "Iter: 6700\n",
      "Loss: 25.58\n",
      "Iter: 6800\n",
      "Loss: 22.05\n",
      "Iter: 6900\n",
      "Loss: 20.1\n",
      "Iter: 7000\n",
      "Loss: 16.98\n"
     ]
    },
    {
     "data": {
      "image/png": "[encoded data removed]",
      "text/plain": [
       "<Figure size 864x144 with 2 Axes>"
      ]
     },
     "metadata": {
      "needs_background": "light"
     },
     "output_type": "display_data"
    },
    {
     "name": "stdout",
     "output_type": "stream",
     "text": [
      "Iter: 7100\n",
      "Loss: 16.06\n",
      "Iter: 7200\n",
      "Loss: 18.52\n",
      "Iter: 7300\n",
      "Loss: 16.37\n",
      "Iter: 7400\n",
      "Loss: 16.37\n",
      "Iter: 7500\n",
      "Loss: 16.39\n",
      "Iter: 7600\n",
      "Loss: 14.58\n",
      "Iter: 7700\n",
      "Loss: 18.8\n",
      "Iter: 7800\n",
      "Loss: 22.77\n",
      "Iter: 7900\n",
      "Loss: 22.2\n",
      "Iter: 8000\n",
      "Loss: 15.14\n"
     ]
    },
    {
     "data": {
      "image/png": "[encoded data removed]",
      "text/plain": [
       "<Figure size 864x144 with 2 Axes>"
      ]
     },
     "metadata": {
      "needs_background": "light"
     },
     "output_type": "display_data"
    },
    {
     "name": "stdout",
     "output_type": "stream",
     "text": [
      "Iter: 8100\n",
      "Loss: 16.33\n",
      "Iter: 8200\n",
      "Loss: 29.86\n",
      "Iter: 8300\n",
      "Loss: 18.38\n",
      "Iter: 8400\n",
      "Loss: 17.55\n",
      "Iter: 8500\n",
      "Loss: 15.19\n",
      "Iter: 8600\n",
      "Loss: 16.77\n",
      "Iter: 8700\n",
      "Loss: 23.1\n",
      "Iter: 8800\n",
      "Loss: 16.79\n",
      "Iter: 8900\n",
      "Loss: 16.27\n",
      "Iter: 9000\n",
      "Loss: 21.74\n"
     ]
    },
    {
     "data": {
      "image/png": "[encoded data removed]",
      "text/plain": [
       "<Figure size 864x144 with 2 Axes>"
      ]
     },
     "metadata": {
      "needs_background": "light"
     },
     "output_type": "display_data"
    },
    {
     "name": "stdout",
     "output_type": "stream",
     "text": [
      "Iter: 9100\n",
      "Loss: 16.19\n",
      "Iter: 9200\n",
      "Loss: 19.42\n",
      "Iter: 9300\n",
      "Loss: 31.66\n",
      "Iter: 9400\n",
      "Loss: 16.6\n",
      "Iter: 9500\n",
      "Loss: 15.6\n",
      "Iter: 9600\n",
      "Loss: 14.62\n",
      "Iter: 9700\n",
      "Loss: 16.5\n",
      "Iter: 9800\n",
      "Loss: 25.64\n",
      "Iter: 9900\n",
      "Loss: 20.47\n",
      "Iter: 10000\n",
      "Loss: 16.03\n"
     ]
    },
    {
     "data": {
      "image/png": "[encoded data removed]",
      "text/plain": [
       "<Figure size 864x144 with 2 Axes>"
      ]
     },
     "metadata": {
      "needs_background": "light"
     },
     "output_type": "display_data"
    }
   ],
   "source": [
    "num_epochs = 50000 #The number of training epochs that we are going to run. For each epoch we go through the entire data set.\n",
    "batch_size = 100 #The number of training examples that we are going to send through the model at a time. \n",
    "#lr         = tf.constant(0.005, tf.float32) #The learning rate of our model\n",
    "\n",
    "i = 0\n",
    "\n",
    "songs = [songs[0]]\n",
    "while i <= num_epochs:\n",
    "    for song in songs:\n",
    "        # The songs are stored in a time x notes format. The size of each song is timesteps_in_song x 2*note_range\n",
    "        # Here we reshape the songs so that each training example is a vector with num_timesteps x 2*note_range elements\n",
    "        song = np.array(song)\n",
    "        song = song[:np.floor(song.shape[0]/num_timesteps).astype(int)*num_timesteps]\n",
    "        song = np.reshape(song, [int(song.shape[0]/num_timesteps), song.shape[1]*num_timesteps])\n",
    "        # Train the VAE on batch_size examples at a time\n",
    "        for ind in range(0, len(song), batch_size): \n",
    "            X_mb = song[ind:ind+batch_size]\n",
    "            _, loss = sess.run([solver, vae_loss], feed_dict={X: X_mb})\n",
    "    \n",
    "    if i % 100 == 0:\n",
    "        print('Iter: {}'.format(i))\n",
    "        print('Loss: {:.4}'. format(loss))\n",
    "    if i % 1000 == 0:\n",
    "        samples = sess.run(X_samples, feed_dict={z: np.random.randn(1,z_dim)})\n",
    "        S = np.reshape(samples, (num_timesteps, 2*note_range))\n",
    "        thresh_S = S>=0.5\n",
    "        plt.figure(figsize=(12,2))\n",
    "        plt.subplot(1,2,1)\n",
    "        plt.imshow(S)\n",
    "        plt.subplot(1,2,2)\n",
    "        plt.imshow(thresh_S)\n",
    "        plt.tight_layout()\n",
    "        plt.pause(0.1)\n",
    "        #midi_manipulation.noteStateMatrixToMidi(thresh_S, \"out/generated_chord_{}\".format(i))\n",
    "#                 print(i)\n",
    "    i += 1"
   ]
  },
  {
   "cell_type": "code",
   "execution_count": 18,
   "metadata": {},
   "outputs": [
    {
     "name": "stdout",
     "output_type": "stream",
     "text": [
      "Model saved in path: ./tmp/model_h500nt16.ckpt\n"
     ]
    }
   ],
   "source": [
    "saver = tf.train.Saver()\n",
    "\n",
    "#Save just in case\n",
    "mname = 'model'+'_h'+str(n_hidden)+'nt'+str(num_timesteps)\n",
    "save_path = saver.save(sess, \"./tmp/\"+mname+\".ckpt\")\n",
    "print(\"Model saved in path: %s\" % save_path)"
   ]
  },
  {
   "cell_type": "markdown",
   "metadata": {},
   "source": [
    "## Training Ended\n",
    "# Generative Part Starts Here"
   ]
  },
  {
   "cell_type": "code",
   "execution_count": 19,
   "metadata": {},
   "outputs": [],
   "source": [
    "#tf.reset_default_graph()\n",
    "#imported_graph = tf.train.import_meta_graph(\"./tmp/\"+mname+\".ckpt.meta\")\n",
    "\n",
    "#saver = tf.train.Saver()\n",
    "#restore_path = saver.restore(sess, \"./tmp/\"+mname+\".ckpt\")\n",
    "\n",
    "#sess = tf.Session()\n",
    "#imported_graph.restore(sess, tf.train.latest_checkpoint(\"./tmp/\")\n",
    "#imported_graph.restore(sess, \"./tmp/\"+mname+\".ckpt\")"
   ]
  },
  {
   "cell_type": "code",
   "execution_count": 22,
   "metadata": {},
   "outputs": [
    {
     "name": "stdout",
     "output_type": "stream",
     "text": [
      "25 500\n"
     ]
    }
   ],
   "source": [
    "bars = int(25*16/num_timesteps)\n",
    "print(bars, z_dim)\n",
    "samples = sess.run(X_samples, feed_dict={z: np.random.randn(bars,z_dim)})\n",
    "S = np.reshape(samples, (bars*num_timesteps, 2*note_range))\n",
    "thresh_S = S>=0.7 #0.5\n",
    "midi_manipulation.noteStateMatrixToMidi(thresh_S, \"out/generated_chord_long__nt16\")"
   ]
  },
  {
   "cell_type": "code",
   "execution_count": 55,
   "metadata": {},
   "outputs": [
    {
     "name": "stdout",
     "output_type": "stream",
     "text": [
      "(385, 156)\n"
     ]
    },
    {
     "data": {
      "text/plain": [
       "<matplotlib.image.AxesImage at 0x168df3e4550>"
      ]
     },
     "execution_count": 55,
     "metadata": {},
     "output_type": "execute_result"
    },
    {
     "data": {
      "image/png": "[encoded data removed]",
      "text/plain": [
       "<Figure size 432x288 with 1 Axes>"
      ]
     },
     "metadata": {
      "needs_background": "light"
     },
     "output_type": "display_data"
    }
   ],
   "source": [
    "vn = 8 #tuple structure with longer phrases 2, 3, 5, 8 \n",
    "q = \"./vf/vf_no\"+str(vn)+\".mid\"\n",
    "#q = \"./prokofiev_vision_fugitives_22_(c)ungar.mid\"\n",
    "querysong = np.array(midi_manipulation.midiToNoteStateMatrix(q))\n",
    "print(np.shape(querysong))\n",
    "plt.imshow(querysong)"
   ]
  },
  {
   "cell_type": "code",
   "execution_count": 56,
   "metadata": {},
   "outputs": [
    {
     "name": "stdout",
     "output_type": "stream",
     "text": [
      "(25, 2496)\n"
     ]
    }
   ],
   "source": [
    "song = np.array(querysong)\n",
    "zeropadsong = np.zeros(((np.floor(song.shape[0]/num_timesteps).astype(int)+1)*num_timesteps, song.shape[1]))\n",
    "zeropadsong[:song.shape[0],:song.shape[1]] = song\n",
    "#song = song[:(np.floor(song.shape[0]/num_timesteps).astype(int)+1)*num_timesteps]\n",
    "song = np.reshape(zeropadsong, [int(song.shape[0]/num_timesteps)+1, song.shape[1]*num_timesteps])\n",
    "print(np.shape(song))\n",
    "\n",
    "decode_bars = np.shape(song)[0]\n",
    "S_reconstruct = np.reshape(song, (decode_bars*num_timesteps, 2*note_range))\n",
    "\n",
    "midi_manipulation.noteStateMatrixToMidi(S_reconstruct, \"out/song_reconstruct\"+\"_vf\"+str(vn))   "
   ]
  },
  {
   "cell_type": "code",
   "execution_count": 60,
   "metadata": {},
   "outputs": [
    {
     "name": "stdout",
     "output_type": "stream",
     "text": [
      "(25, 500)\n"
     ]
    }
   ],
   "source": [
    "# Encode the VAE on query\n",
    "# These are the functions for Encoding-Decoding\n",
    "# Encoding: Reading from Data to get z_sample\n",
    "#z_mu, z_logvar = Q(X)\n",
    "#z_sample = sample_z(z_mu, z_logvar)\n",
    "# Decoding: Sampling from z\n",
    "#X_samples, _ = P(z)\n",
    "\n",
    "Xq = song\n",
    "zs = False\n",
    "if zs:\n",
    "    zq_sample = sess.run(z_sample, feed_dict={X: Xq})\n",
    "    ztype = \"_zs\"\n",
    "else: #using the mean instead of sampling: \n",
    "    zq_sample = sess.run(z_mu, feed_dict={X: Xq})  #Check why this causes breaks / missing values in the output\n",
    "    ztype = \"_zmu\"\n",
    "print(np.shape(zq_sample))"
   ]
  },
  {
   "cell_type": "code",
   "execution_count": 61,
   "metadata": {},
   "outputs": [
    {
     "name": "stdout",
     "output_type": "stream",
     "text": [
      "generated_query_h500_nt16_zmu_vf8\n"
     ]
    }
   ],
   "source": [
    "# Decode with the z from query\n",
    "samples = sess.run(X_samples, feed_dict={z: zq_sample})\n",
    "\n",
    "S = np.reshape(samples, (decode_bars*num_timesteps, 2*note_range))\n",
    "thresh_S = S>=0.66 #0.857 #0.5\n",
    "fout = \"generated_query\"+'_h'+str(n_hidden)+'_nt'+str(num_timesteps)+str(ztype)+\"_vf\"+str(vn)\n",
    "print(fout)\n",
    "midi_manipulation.noteStateMatrixToMidi(thresh_S, \"out/\"+fout)    "
   ]
  },
  {
   "cell_type": "code",
   "execution_count": 62,
   "metadata": {},
   "outputs": [
    {
     "name": "stdout",
     "output_type": "stream",
     "text": [
      "(25, 500)\n"
     ]
    },
    {
     "data": {
      "image/png": "[encoded data removed]",
      "text/plain": [
       "<Figure size 1296x360 with 1 Axes>"
      ]
     },
     "metadata": {
      "needs_background": "light"
     },
     "output_type": "display_data"
    }
   ],
   "source": [
    "plt.figure(figsize=(18,5))\n",
    "plt.imshow(np.log(np.abs(zq_sample)))\n",
    "print(np.shape(zq_sample))"
   ]
  },
  {
   "cell_type": "code",
   "execution_count": null,
   "metadata": {},
   "outputs": [],
   "source": []
  },
  {
   "cell_type": "code",
   "execution_count": null,
   "metadata": {},
   "outputs": [],
   "source": []
  }
 ],
 "metadata": {
  "kernelspec": {
   "display_name": "Python 2",
   "language": "python",
   "name": "python2"
  },
  "language_info": {
   "codemirror_mode": {
    "name": "ipython",
    "version": 2
   },
   "file_extension": ".py",
   "mimetype": "text/x-python",
   "name": "python",
   "nbconvert_exporter": "python",
   "pygments_lexer": "ipython2",
   "version": "2.7.16"
  }
 },
 "nbformat": 4,
 "nbformat_minor": 2
}
